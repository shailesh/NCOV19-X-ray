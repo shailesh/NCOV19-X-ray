{
  "nbformat": 4,
  "nbformat_minor": 0,
  "metadata": {
    "colab": {
      "name": "NCOV19 X-ray Classifier.ipynb",
      "provenance": [],
      "authorship_tag": "ABX9TyP5bVIHFYCIyYBvI2lOz9C4",
      "include_colab_link": true
    },
    "kernelspec": {
      "name": "python3",
      "display_name": "Python 3"
    },
    "accelerator": "GPU"
  },
  "cells": [
    {
      "cell_type": "markdown",
      "metadata": {
        "id": "view-in-github",
        "colab_type": "text"
      },
      "source": [
        "<a href=\"https://colab.research.google.com/github/ajsanjoaquin/COVID-19-Scanner/blob/master/NCOV19_X_ray_Classifier.ipynb\" target=\"_parent\"><img src=\"https://colab.research.google.com/assets/colab-badge.svg\" alt=\"Open In Colab\"/></a>"
      ]
    },
    {
      "cell_type": "markdown",
      "metadata": {
        "id": "3e7geXMFyndA",
        "colab_type": "text"
      },
      "source": [
        "#Coronavirus 2019 (COVID-19) Classifer using Posteroanterior views (PA) of Chest Radiograph Images (CXR)\n",
        "Accompanying information [here](https://towardsdatascience.com/using-deep-learning-to-detect-ncov-19-from-x-ray-images-1a89701d1acd).\n",
        "\n",
        "NOTICE: This notebook is provided as-is with no guarantee of accurate diagnosis. The model was trained on heavily skewed data and is not suitable for deployment. It is currently meant to be a proof of concept for now. All images used were publicly accessible and usable at the time of training."
      ]
    },
    {
      "cell_type": "code",
      "metadata": {
        "id": "yZMVckwEAN3c",
        "colab_type": "code",
        "outputId": "9e9914b6-22e9-405c-e7c0-c8d1ff5c235a",
        "colab": {
          "base_uri": "https://localhost:8080/",
          "height": 139
        }
      },
      "source": [
        "!git clone https://github.com/ieee8023/covid-chestxray-dataset.git"
      ],
      "execution_count": 0,
      "outputs": [
        {
          "output_type": "stream",
          "text": [
            "Cloning into 'covid-chestxray-dataset'...\n",
            "remote: Enumerating objects: 41, done.\u001b[K\n",
            "remote: Counting objects:   2% (1/41)\u001b[K\rremote: Counting objects:   4% (2/41)\u001b[K\rremote: Counting objects:   7% (3/41)\u001b[K\rremote: Counting objects:   9% (4/41)\u001b[K\rremote: Counting objects:  12% (5/41)\u001b[K\rremote: Counting objects:  14% (6/41)\u001b[K\rremote: Counting objects:  17% (7/41)\u001b[K\rremote: Counting objects:  19% (8/41)\u001b[K\rremote: Counting objects:  21% (9/41)\u001b[K\rremote: Counting objects:  24% (10/41)\u001b[K\rremote: Counting objects:  26% (11/41)\u001b[K\rremote: Counting objects:  29% (12/41)\u001b[K\rremote: Counting objects:  31% (13/41)\u001b[K\rremote: Counting objects:  34% (14/41)\u001b[K\rremote: Counting objects:  36% (15/41)\u001b[K\rremote: Counting objects:  39% (16/41)\u001b[K\rremote: Counting objects:  41% (17/41)\u001b[K\rremote: Counting objects:  43% (18/41)\u001b[K\rremote: Counting objects:  46% (19/41)\u001b[K\rremote: Counting objects:  48% (20/41)\u001b[K\rremote: Counting objects:  51% (21/41)\u001b[K\rremote: Counting objects:  53% (22/41)\u001b[K\rremote: Counting objects:  56% (23/41)\u001b[K\rremote: Counting objects:  58% (24/41)\u001b[K\rremote: Counting objects:  60% (25/41)\u001b[K\rremote: Counting objects:  63% (26/41)\u001b[K\rremote: Counting objects:  65% (27/41)\u001b[K\rremote: Counting objects:  68% (28/41)\u001b[K\rremote: Counting objects:  70% (29/41)\u001b[K\rremote: Counting objects:  73% (30/41)\u001b[K\rremote: Counting objects:  75% (31/41)\u001b[K\rremote: Counting objects:  78% (32/41)\u001b[K\rremote: Counting objects:  80% (33/41)\u001b[K\rremote: Counting objects:  82% (34/41)\u001b[K\rremote: Counting objects:  85% (35/41)\u001b[K\rremote: Counting objects:  87% (36/41)\u001b[K\rremote: Counting objects:  90% (37/41)\u001b[K\rremote: Counting objects:  92% (38/41)\u001b[K\rremote: Counting objects:  95% (39/41)\u001b[K\rremote: Counting objects:  97% (40/41)\u001b[K\rremote: Counting objects: 100% (41/41)\u001b[K\rremote: Counting objects: 100% (41/41), done.\u001b[K\n",
            "remote: Compressing objects: 100% (36/36), done.\u001b[K\n",
            "remote: Total 352 (delta 16), reused 26 (delta 5), pack-reused 311\u001b[K\n",
            "Receiving objects: 100% (352/352), 58.02 MiB | 42.50 MiB/s, done.\n",
            "Resolving deltas: 100% (123/123), done.\n"
          ],
          "name": "stdout"
        }
      ]
    },
    {
      "cell_type": "code",
      "metadata": {
        "id": "NLm4gvRD_9Te",
        "colab_type": "code",
        "colab": {}
      },
      "source": [
        "import pandas as pd\n",
        "import numpy as np\n",
        "import os, shutil\n",
        "from fastai.vision import *\n",
        "from fastai.widgets import ClassConfusion"
      ],
      "execution_count": 0,
      "outputs": []
    },
    {
      "cell_type": "markdown",
      "metadata": {
        "id": "4Nd3AHX5AULm",
        "colab_type": "text"
      },
      "source": [
        "#Preprocessing\n",
        "##Extracting Images "
      ]
    },
    {
      "cell_type": "code",
      "metadata": {
        "id": "9n9PzSeuCIRc",
        "colab_type": "code",
        "colab": {}
      },
      "source": [
        "metadata_path='covid-chestxray-dataset/metadata.csv'\n",
        "df=pd.read_csv(metadata_path)\n",
        "\n",
        "#types we're interested in\n",
        "covid_patients=df['finding']=='COVID-19'\n",
        "CT=df['view']=='CT'\n",
        "PA=df['view']=='PA'\n",
        "\n",
        "# %%\n",
        "df[covid_patients & CT].shape\n",
        "df[covid_patients & PA].shape\n",
        "# %%\n",
        "PA_covid=df[covid_patients & PA]\n",
        "Others=df[~covid_patients & PA]\n",
        "covid_files=[files for files in PA_covid['filename']]\n",
        "other_files=[files for files in Others['filename']]"
      ],
      "execution_count": 0,
      "outputs": []
    },
    {
      "cell_type": "code",
      "metadata": {
        "id": "H7BW9lAi0QDZ",
        "colab_type": "code",
        "colab": {}
      },
      "source": [
        "#our test folder. manually included files via upload.\n",
        "test_files=[file for file in sorted(os.listdir('test'))]\n",
        "df_test=pd.DataFrame(test_files, columns=['filename'])"
      ],
      "execution_count": 0,
      "outputs": []
    },
    {
      "cell_type": "code",
      "metadata": {
        "id": "KSShznGMAd7M",
        "colab_type": "code",
        "colab": {}
      },
      "source": [
        "#create data folder and positive & negative cases folder, and test folder\n",
        "destpath = 'data/covid','data/other', 'data/test'\n",
        "srcpath = 'covid-chestxray-dataset/images'\n",
        "\n",
        "for root, dirs, files in os.walk(srcpath):\n",
        "  if not os.path.isdir(destpath[0]):\n",
        "    os.makedirs(destpath[0])\n",
        "  if not os.path.isdir(destpath[1]):\n",
        "    os.makedirs(destpath[1])\n",
        "  if not os.path.isdir(destpath[2]):\n",
        "    os.makedirs(destpath[2])\n",
        "  for file in files:\n",
        "    if file in covid_files:\n",
        "      shutil.copy(os.path.join(root, file),destpath[0])\n",
        "    if file in other_files:\n",
        "      shutil.copy(os.path.join(root,file),destpath[1])\n",
        "    if file in test_files:\n",
        "      shutil.copy(os.path.join(root,file)),destpath[2]\n",
        "      "
      ],
      "execution_count": 0,
      "outputs": []
    },
    {
      "cell_type": "code",
      "metadata": {
        "id": "cXx92rbQF1K2",
        "colab_type": "code",
        "outputId": "d024b4f6-df26-48c5-bf35-95dc54ad550e",
        "colab": {
          "base_uri": "https://localhost:8080/",
          "height": 35
        }
      },
      "source": [
        "#see number of files\n",
        "path, dirs, files2 = os.walk(\"data/other\").__next__()\n",
        "path, dirs, files1 = os.walk(\"data/covid\").__next__()\n",
        "path, dirs, files3 = os.walk(\"data/test\").__next__()\n",
        "print(\"Number of images in Other: {}\".format(len(files2)),\"Number of images in Covid: {}\".format(len(files1)),\"Number of images in Test Set: {}\".format(len(files3)) )"
      ],
      "execution_count": 0,
      "outputs": [
        {
          "output_type": "stream",
          "text": [
            "Number of images in Other: 226 Number of images in Covid: 35\n"
          ],
          "name": "stdout"
        }
      ]
    },
    {
      "cell_type": "markdown",
      "metadata": {
        "id": "eIwcpkbPT2_8",
        "colab_type": "text"
      },
      "source": [
        "## Loading and Splitting Data\n",
        "We first declare the labels to be used (corresponding with the folder names). We then wrap it around a dataloader from fastai. \n",
        "\n",
        "We allocate 20% of the data for validation, and we reserve a test set from a folder called \"test\". We resize all images to 512 x 512 pixels. "
      ]
    },
    {
      "cell_type": "code",
      "metadata": {
        "id": "c2v_TyrjQ5gO",
        "colab_type": "code",
        "colab": {}
      },
      "source": [
        "classes=['covid','other']"
      ],
      "execution_count": 0,
      "outputs": []
    },
    {
      "cell_type": "code",
      "metadata": {
        "id": "k5E51HCAQ6ph",
        "colab_type": "code",
        "colab": {}
      },
      "source": [
        "#include a test folder named test before running this block\n",
        "#function assumes test set is located in the path (first arg) by default\n",
        "data = ImageDataBunch.from_folder('data', train=\".\", valid_pct=0.25,test='test',\n",
        "        ds_tfms=get_transforms(), bs=8, size=512, num_workers=4).normalize(imagenet_stats)"
      ],
      "execution_count": 0,
      "outputs": []
    },
    {
      "cell_type": "code",
      "metadata": {
        "id": "lMlHkvmQWmb4",
        "colab_type": "code",
        "outputId": "f4a52ff9-220b-4328-b9d0-e929706cb2fe",
        "colab": {
          "base_uri": "https://localhost:8080/",
          "height": 35
        }
      },
      "source": [
        "data.classes"
      ],
      "execution_count": 0,
      "outputs": [
        {
          "output_type": "execute_result",
          "data": {
            "text/plain": [
              "['covid', 'other']"
            ]
          },
          "metadata": {
            "tags": []
          },
          "execution_count": 14
        }
      ]
    },
    {
      "cell_type": "code",
      "metadata": {
        "id": "-FPm5_nyy60h",
        "colab_type": "code",
        "outputId": "74cb7b30-f588-4247-9f90-324cfe22f825",
        "colab": {
          "base_uri": "https://localhost:8080/",
          "height": 35
        }
      },
      "source": [
        "#show size of our datasets\n",
        "print(len(data.train_ds),len(data.valid_ds),len(data.test_ds.x))"
      ],
      "execution_count": 0,
      "outputs": [
        {
          "output_type": "stream",
          "text": [
            "196 65 78\n"
          ],
          "name": "stdout"
        }
      ]
    },
    {
      "cell_type": "code",
      "metadata": {
        "id": "oL6USZoeV9Ol",
        "colab_type": "code",
        "outputId": "7959513d-4f1f-4ca4-9ff8-9da21ff3a46e",
        "colab": {
          "base_uri": "https://localhost:8080/",
          "height": 582
        }
      },
      "source": [
        "#sample of our images with labels\n",
        "data.show_batch(rows=5, figsize=(7,8))"
      ],
      "execution_count": 0,
      "outputs": [
        {
          "output_type": "display_data",
          "data": {
            "image/png": "[encoded data removed]",
            "text/plain": [
              "<Figure size 504x576 with 9 Axes>"
            ]
          },
          "metadata": {
            "tags": []
          }
        }
      ]
    },
    {
      "cell_type": "markdown",
      "metadata": {
        "id": "U0Jh0XPsevg3",
        "colab_type": "text"
      },
      "source": [
        "#Training\n",
        "We use a Resnet 50 for transfer learning.\n",
        "Initially we run the fit one cycle policy for a few epochs and then using fastai's **lrfinder** to find an optimal range for our learning rate.\n",
        "\n",
        "We use precision and recall to measure the incidents of false positives and false negatives, as well as AUC to account for performance given the skewed data."
      ]
    },
    {
      "cell_type": "code",
      "metadata": {
        "id": "676aAaiLglB6",
        "colab_type": "code",
        "colab": {}
      },
      "source": [
        "precision=Precision()\n",
        "recall=Recall()\n",
        "AUC=AUROC()"
      ],
      "execution_count": 0,
      "outputs": []
    },
    {
      "cell_type": "code",
      "metadata": {
        "id": "f-hB0emxWHIW",
        "colab_type": "code",
        "colab": {}
      },
      "source": [
        "learn = cnn_learner(data, models.resnet50, metrics=(accuracy,precision,recall,AUC))"
      ],
      "execution_count": 0,
      "outputs": []
    },
    {
      "cell_type": "code",
      "metadata": {
        "id": "EODxAuYMLUhz",
        "colab_type": "code",
        "outputId": "4989cbbe-c903-43b4-c885-b25462553051",
        "colab": {
          "base_uri": "https://localhost:8080/",
          "height": 79
        }
      },
      "source": [
        "learn.fit_one_cycle(1)"
      ],
      "execution_count": 0,
      "outputs": [
        {
          "output_type": "display_data",
          "data": {
            "text/html": [
              "<table border=\"1\" class=\"dataframe\">\n",
              "  <thead>\n",
              "    <tr style=\"text-align: left;\">\n",
              "      <th>epoch</th>\n",
              "      <th>train_loss</th>\n",
              "      <th>valid_loss</th>\n",
              "      <th>accuracy</th>\n",
              "      <th>precision</th>\n",
              "      <th>recall</th>\n",
              "      <th>auroc</th>\n",
              "      <th>time</th>\n",
              "    </tr>\n",
              "  </thead>\n",
              "  <tbody>\n",
              "    <tr>\n",
              "      <td>0</td>\n",
              "      <td>1.452687</td>\n",
              "      <td>2.755551</td>\n",
              "      <td>0.323077</td>\n",
              "      <td>1.000000</td>\n",
              "      <td>0.169811</td>\n",
              "      <td>0.918239</td>\n",
              "      <td>00:34</td>\n",
              "    </tr>\n",
              "  </tbody>\n",
              "</table>"
            ],
            "text/plain": [
              "<IPython.core.display.HTML object>"
            ]
          },
          "metadata": {
            "tags": []
          }
        }
      ]
    },
    {
      "cell_type": "markdown",
      "metadata": {
        "id": "CfwTNbHuaOY8",
        "colab_type": "text"
      },
      "source": [
        "At this stage, we realize the model is underfitting, so we continue to progressively increase the number of epochs from here on in an effort to reduce training loss while maintaining the low validation loss."
      ]
    },
    {
      "cell_type": "code",
      "metadata": {
        "id": "21zSYXbiMMOX",
        "colab_type": "code",
        "outputId": "5004a04e-19ee-4af4-b860-21490caf2861",
        "colab": {
          "base_uri": "https://localhost:8080/",
          "height": 110
        }
      },
      "source": [
        "learn.fit_one_cycle(2)"
      ],
      "execution_count": 0,
      "outputs": [
        {
          "output_type": "display_data",
          "data": {
            "text/html": [
              "<table border=\"1\" class=\"dataframe\">\n",
              "  <thead>\n",
              "    <tr style=\"text-align: left;\">\n",
              "      <th>epoch</th>\n",
              "      <th>train_loss</th>\n",
              "      <th>valid_loss</th>\n",
              "      <th>accuracy</th>\n",
              "      <th>precision</th>\n",
              "      <th>recall</th>\n",
              "      <th>auroc</th>\n",
              "      <th>time</th>\n",
              "    </tr>\n",
              "  </thead>\n",
              "  <tbody>\n",
              "    <tr>\n",
              "      <td>0</td>\n",
              "      <td>0.767465</td>\n",
              "      <td>0.476666</td>\n",
              "      <td>0.784615</td>\n",
              "      <td>1.000000</td>\n",
              "      <td>0.735849</td>\n",
              "      <td>0.992138</td>\n",
              "      <td>00:31</td>\n",
              "    </tr>\n",
              "    <tr>\n",
              "      <td>1</td>\n",
              "      <td>0.609159</td>\n",
              "      <td>0.180127</td>\n",
              "      <td>0.907692</td>\n",
              "      <td>0.979592</td>\n",
              "      <td>0.905660</td>\n",
              "      <td>0.979560</td>\n",
              "      <td>00:31</td>\n",
              "    </tr>\n",
              "  </tbody>\n",
              "</table>"
            ],
            "text/plain": [
              "<IPython.core.display.HTML object>"
            ]
          },
          "metadata": {
            "tags": []
          }
        }
      ]
    },
    {
      "cell_type": "code",
      "metadata": {
        "id": "usBXPEH4hEs0",
        "colab_type": "code",
        "outputId": "8ea6ce5d-d043-448b-c60f-7a6a2753c4fa",
        "colab": {
          "base_uri": "https://localhost:8080/",
          "height": 466
        }
      },
      "source": [
        "learn.lr_find()\n",
        "learn.recorder.plot()"
      ],
      "execution_count": 0,
      "outputs": [
        {
          "output_type": "display_data",
          "data": {
            "text/html": [
              "\n",
              "    <div>\n",
              "        <style>\n",
              "            /* Turns off some styling */\n",
              "            progress {\n",
              "                /* gets rid of default border in Firefox and Opera. */\n",
              "                border: none;\n",
              "                /* Needs to be in here for Safari polyfill so background images work as expected. */\n",
              "                background-size: auto;\n",
              "            }\n",
              "            .progress-bar-interrupted, .progress-bar-interrupted::-webkit-progress-bar {\n",
              "                background: #F44336;\n",
              "            }\n",
              "        </style>\n",
              "      <progress value='3' class='' max='5', style='width:300px; height:20px; vertical-align: middle;'></progress>\n",
              "      60.00% [3/5 01:13<00:49]\n",
              "    </div>\n",
              "    \n",
              "<table border=\"1\" class=\"dataframe\">\n",
              "  <thead>\n",
              "    <tr style=\"text-align: left;\">\n",
              "      <th>epoch</th>\n",
              "      <th>train_loss</th>\n",
              "      <th>valid_loss</th>\n",
              "      <th>accuracy</th>\n",
              "      <th>precision</th>\n",
              "      <th>recall</th>\n",
              "      <th>auroc</th>\n",
              "      <th>time</th>\n",
              "    </tr>\n",
              "  </thead>\n",
              "  <tbody>\n",
              "    <tr>\n",
              "      <td>0</td>\n",
              "      <td>0.367492</td>\n",
              "      <td>#na#</td>\n",
              "      <td>00:24</td>\n",
              "    </tr>\n",
              "    <tr>\n",
              "      <td>1</td>\n",
              "      <td>0.336237</td>\n",
              "      <td>#na#</td>\n",
              "      <td>00:24</td>\n",
              "    </tr>\n",
              "    <tr>\n",
              "      <td>2</td>\n",
              "      <td>0.360317</td>\n",
              "      <td>#na#</td>\n",
              "      <td>00:24</td>\n",
              "    </tr>\n",
              "  </tbody>\n",
              "</table><p>\n",
              "\n",
              "    <div>\n",
              "        <style>\n",
              "            /* Turns off some styling */\n",
              "            progress {\n",
              "                /* gets rid of default border in Firefox and Opera. */\n",
              "                border: none;\n",
              "                /* Needs to be in here for Safari polyfill so background images work as expected. */\n",
              "                background-size: auto;\n",
              "            }\n",
              "            .progress-bar-interrupted, .progress-bar-interrupted::-webkit-progress-bar {\n",
              "                background: #F44336;\n",
              "            }\n",
              "        </style>\n",
              "      <progress value='7' class='' max='24', style='width:300px; height:20px; vertical-align: middle;'></progress>\n",
              "      29.17% [7/24 00:09<00:23 0.6484]\n",
              "    </div>\n",
              "    "
            ],
            "text/plain": [
              "<IPython.core.display.HTML object>"
            ]
          },
          "metadata": {
            "tags": []
          }
        },
        {
          "output_type": "stream",
          "text": [
            "LR Finder is complete, type {learner_name}.recorder.plot() to see the graph.\n"
          ],
          "name": "stdout"
        },
        {
          "output_type": "display_data",
          "data": {
            "image/png": "[encoded data removed]",
            "text/plain": [
              "<Figure size 432x288 with 1 Axes>"
            ]
          },
          "metadata": {
            "tags": []
          }
        }
      ]
    },
    {
      "cell_type": "code",
      "metadata": {
        "id": "CZY3yItbg2Gn",
        "colab_type": "code",
        "cellView": "form",
        "colab": {}
      },
      "source": [
        "#@title Defining custom checkpoints\n",
        "#Customizing where our checkpoints are saved and loaded\n",
        "#if not os.path.isdir('checkpoints'): \n",
        " # os.mkdir('checkpoints')\n",
        "os.mkdir('check')\n",
        "def custom_path_save(self, name:PathOrStr, path='check', return_path:bool=False, with_opt:bool=True):\n",
        "        \"Save model and optimizer state (if `with_opt`) with `name` to `self.model_dir`.\"\n",
        "        # delete #  path = self.path/self.model_dir/f'{name}.pth'\n",
        "        # my addition: start\n",
        "        if path=='': path = self.path/self.model_dir/f'{name}.pth'\n",
        "        else: path = f'{path}/{name}.pth'\n",
        "        # end\n",
        "        if not with_opt: state = get_model(self.model).state_dict()\n",
        "        else: state = {'model': get_model(self.model).state_dict(), 'opt':self.opt.state_dict()}\n",
        "        torch.save(state, path)\n",
        "        if return_path: return path\n",
        "\n",
        "def custom_path_load(self, name:PathOrStr, path='check', device:torch.device=None, strict:bool=True, with_opt:bool=None,purge=False):\n",
        "        \"Load model and optimizer state (if `with_opt`) `name` from `self.model_dir` using `device`.\"\n",
        "        if device is None: device = self.data.device\n",
        "        # delete # state = torch.load(self.path/self.model_dir/f'{name}.pth', map_location=device)\n",
        "        # my addition: start\n",
        "        if path=='': path = self.path/self.model_dir/f'{name}.pth'\n",
        "        else: path = f'{path}/{name}.pth'\n",
        "        state = torch.load(path, map_location=device) \n",
        "        # end\n",
        "        if set(state.keys()) == {'model', 'opt'}:\n",
        "            get_model(self.model).load_state_dict(state['model'], strict=strict)\n",
        "            if ifnone(with_opt,True):\n",
        "                if not hasattr(self, 'opt'): opt = self.create_opt(defaults.lr, self.wd)\n",
        "                try:    self.opt.load_state_dict(state['opt'])\n",
        "                except: pass\n",
        "        else:\n",
        "            if with_opt: warn(\"Saved filed doesn't contain an optimizer state.\")\n",
        "            get_model(self.model).load_state_dict(state, strict=strict)\n",
        "        return self\n",
        "\n",
        "learn.save = custom_path_save.__get__(learn)\n",
        "learn.load = custom_path_load.__get__(learn)\n",
        "model_path ='check'"
      ],
      "execution_count": 0,
      "outputs": []
    },
    {
      "cell_type": "code",
      "metadata": {
        "id": "HyPZ8xFIsStG",
        "colab_type": "code",
        "colab": {}
      },
      "source": [
        "learn.save('Corona_model_stage1')"
      ],
      "execution_count": 0,
      "outputs": []
    },
    {
      "cell_type": "code",
      "metadata": {
        "id": "KLlcXkQWspWt",
        "colab_type": "code",
        "colab": {}
      },
      "source": [
        "#learn.load('Corona_model_stage1')"
      ],
      "execution_count": 0,
      "outputs": []
    },
    {
      "cell_type": "code",
      "metadata": {
        "id": "qknwaf9au3qe",
        "colab_type": "code",
        "colab": {}
      },
      "source": [
        "learn.unfreeze()"
      ],
      "execution_count": 0,
      "outputs": []
    },
    {
      "cell_type": "code",
      "metadata": {
        "id": "wSgLIG_FtnLf",
        "colab_type": "code",
        "outputId": "b2057faa-5dd0-4cb9-adab-55cb34bacc2a",
        "colab": {
          "base_uri": "https://localhost:8080/",
          "height": 355
        }
      },
      "source": [
        "learn.fit_one_cycle(10, max_lr=slice(9e-07,1e-06))"
      ],
      "execution_count": 0,
      "outputs": [
        {
          "output_type": "display_data",
          "data": {
            "text/html": [
              "<table border=\"1\" class=\"dataframe\">\n",
              "  <thead>\n",
              "    <tr style=\"text-align: left;\">\n",
              "      <th>epoch</th>\n",
              "      <th>train_loss</th>\n",
              "      <th>valid_loss</th>\n",
              "      <th>accuracy</th>\n",
              "      <th>precision</th>\n",
              "      <th>recall</th>\n",
              "      <th>auroc</th>\n",
              "      <th>time</th>\n",
              "    </tr>\n",
              "  </thead>\n",
              "  <tbody>\n",
              "    <tr>\n",
              "      <td>0</td>\n",
              "      <td>0.364490</td>\n",
              "      <td>0.198903</td>\n",
              "      <td>0.907692</td>\n",
              "      <td>0.912281</td>\n",
              "      <td>0.981132</td>\n",
              "      <td>0.949686</td>\n",
              "      <td>00:32</td>\n",
              "    </tr>\n",
              "    <tr>\n",
              "      <td>1</td>\n",
              "      <td>0.399531</td>\n",
              "      <td>0.238177</td>\n",
              "      <td>0.861538</td>\n",
              "      <td>1.000000</td>\n",
              "      <td>0.830189</td>\n",
              "      <td>0.987421</td>\n",
              "      <td>00:32</td>\n",
              "    </tr>\n",
              "    <tr>\n",
              "      <td>2</td>\n",
              "      <td>0.363702</td>\n",
              "      <td>0.195634</td>\n",
              "      <td>0.907692</td>\n",
              "      <td>1.000000</td>\n",
              "      <td>0.886792</td>\n",
              "      <td>0.992138</td>\n",
              "      <td>00:32</td>\n",
              "    </tr>\n",
              "    <tr>\n",
              "      <td>3</td>\n",
              "      <td>0.378611</td>\n",
              "      <td>0.154305</td>\n",
              "      <td>0.923077</td>\n",
              "      <td>0.944444</td>\n",
              "      <td>0.962264</td>\n",
              "      <td>0.985849</td>\n",
              "      <td>00:32</td>\n",
              "    </tr>\n",
              "    <tr>\n",
              "      <td>4</td>\n",
              "      <td>0.397570</td>\n",
              "      <td>0.182065</td>\n",
              "      <td>0.938462</td>\n",
              "      <td>0.962264</td>\n",
              "      <td>0.962264</td>\n",
              "      <td>0.974843</td>\n",
              "      <td>00:31</td>\n",
              "    </tr>\n",
              "    <tr>\n",
              "      <td>5</td>\n",
              "      <td>0.404387</td>\n",
              "      <td>0.157945</td>\n",
              "      <td>0.907692</td>\n",
              "      <td>0.943396</td>\n",
              "      <td>0.943396</td>\n",
              "      <td>0.982704</td>\n",
              "      <td>00:32</td>\n",
              "    </tr>\n",
              "    <tr>\n",
              "      <td>6</td>\n",
              "      <td>0.405342</td>\n",
              "      <td>0.164380</td>\n",
              "      <td>0.953846</td>\n",
              "      <td>0.980769</td>\n",
              "      <td>0.962264</td>\n",
              "      <td>0.982704</td>\n",
              "      <td>00:31</td>\n",
              "    </tr>\n",
              "    <tr>\n",
              "      <td>7</td>\n",
              "      <td>0.417745</td>\n",
              "      <td>0.136051</td>\n",
              "      <td>0.953846</td>\n",
              "      <td>0.946429</td>\n",
              "      <td>1.000000</td>\n",
              "      <td>0.990566</td>\n",
              "      <td>00:32</td>\n",
              "    </tr>\n",
              "    <tr>\n",
              "      <td>8</td>\n",
              "      <td>0.437893</td>\n",
              "      <td>0.137975</td>\n",
              "      <td>0.953846</td>\n",
              "      <td>0.962963</td>\n",
              "      <td>0.981132</td>\n",
              "      <td>0.990566</td>\n",
              "      <td>00:32</td>\n",
              "    </tr>\n",
              "    <tr>\n",
              "      <td>9</td>\n",
              "      <td>0.402558</td>\n",
              "      <td>0.152316</td>\n",
              "      <td>0.938462</td>\n",
              "      <td>0.945455</td>\n",
              "      <td>0.981132</td>\n",
              "      <td>0.988994</td>\n",
              "      <td>00:32</td>\n",
              "    </tr>\n",
              "  </tbody>\n",
              "</table>"
            ],
            "text/plain": [
              "<IPython.core.display.HTML object>"
            ]
          },
          "metadata": {
            "tags": []
          }
        }
      ]
    },
    {
      "cell_type": "code",
      "metadata": {
        "id": "ggsOKG5VQO3J",
        "colab_type": "code",
        "colab": {}
      },
      "source": [
        "learn.save('Corona_model_stage2')"
      ],
      "execution_count": 0,
      "outputs": []
    },
    {
      "cell_type": "code",
      "metadata": {
        "id": "LGW3jeYGuxlC",
        "colab_type": "code",
        "outputId": "172b1aa9-ad52-4cd4-8753-e04f35451cd6",
        "colab": {
          "base_uri": "https://localhost:8080/",
          "height": 311
        }
      },
      "source": [
        "#confusion matrix for the first 2 iterations\n",
        "interp = ClassificationInterpretation.from_learner(learn)\n",
        "interp.plot_confusion_matrix()"
      ],
      "execution_count": 0,
      "outputs": [
        {
          "output_type": "display_data",
          "data": {
            "text/html": [
              ""
            ],
            "text/plain": [
              "<IPython.core.display.HTML object>"
            ]
          },
          "metadata": {
            "tags": []
          }
        },
        {
          "output_type": "display_data",
          "data": {
            "image/png": "[encoded data removed]",
            "text/plain": [
              "<Figure size 432x288 with 1 Axes>"
            ]
          },
          "metadata": {
            "tags": []
          }
        }
      ]
    },
    {
      "cell_type": "code",
      "metadata": {
        "id": "-eZlqAM5ysB7",
        "colab_type": "code",
        "colab": {}
      },
      "source": [
        "ClassConfusion(interp, classes, is_ordered=False, figsize=(8,8))"
      ],
      "execution_count": 0,
      "outputs": []
    },
    {
      "cell_type": "code",
      "metadata": {
        "id": "rt5xT11WQZXo",
        "colab_type": "code",
        "outputId": "0ac84594-4184-453f-9954-679eae4c190f",
        "colab": {
          "base_uri": "https://localhost:8080/",
          "height": 466
        }
      },
      "source": [
        "learn.lr_find()\n",
        "learn.recorder.plot()"
      ],
      "execution_count": 0,
      "outputs": [
        {
          "output_type": "display_data",
          "data": {
            "text/html": [
              "\n",
              "    <div>\n",
              "        <style>\n",
              "            /* Turns off some styling */\n",
              "            progress {\n",
              "                /* gets rid of default border in Firefox and Opera. */\n",
              "                border: none;\n",
              "                /* Needs to be in here for Safari polyfill so background images work as expected. */\n",
              "                background-size: auto;\n",
              "            }\n",
              "            .progress-bar-interrupted, .progress-bar-interrupted::-webkit-progress-bar {\n",
              "                background: #F44336;\n",
              "            }\n",
              "        </style>\n",
              "      <progress value='3' class='' max='5', style='width:300px; height:20px; vertical-align: middle;'></progress>\n",
              "      60.00% [3/5 01:18<00:52]\n",
              "    </div>\n",
              "    \n",
              "<table border=\"1\" class=\"dataframe\">\n",
              "  <thead>\n",
              "    <tr style=\"text-align: left;\">\n",
              "      <th>epoch</th>\n",
              "      <th>train_loss</th>\n",
              "      <th>valid_loss</th>\n",
              "      <th>accuracy</th>\n",
              "      <th>precision</th>\n",
              "      <th>recall</th>\n",
              "      <th>auroc</th>\n",
              "      <th>time</th>\n",
              "    </tr>\n",
              "  </thead>\n",
              "  <tbody>\n",
              "    <tr>\n",
              "      <td>0</td>\n",
              "      <td>0.319931</td>\n",
              "      <td>#na#</td>\n",
              "      <td>00:26</td>\n",
              "    </tr>\n",
              "    <tr>\n",
              "      <td>1</td>\n",
              "      <td>0.326309</td>\n",
              "      <td>#na#</td>\n",
              "      <td>00:25</td>\n",
              "    </tr>\n",
              "    <tr>\n",
              "      <td>2</td>\n",
              "      <td>0.578660</td>\n",
              "      <td>#na#</td>\n",
              "      <td>00:26</td>\n",
              "    </tr>\n",
              "  </tbody>\n",
              "</table><p>\n",
              "\n",
              "    <div>\n",
              "        <style>\n",
              "            /* Turns off some styling */\n",
              "            progress {\n",
              "                /* gets rid of default border in Firefox and Opera. */\n",
              "                border: none;\n",
              "                /* Needs to be in here for Safari polyfill so background images work as expected. */\n",
              "                background-size: auto;\n",
              "            }\n",
              "            .progress-bar-interrupted, .progress-bar-interrupted::-webkit-progress-bar {\n",
              "                background: #F44336;\n",
              "            }\n",
              "        </style>\n",
              "      <progress value='1' class='' max='24', style='width:300px; height:20px; vertical-align: middle;'></progress>\n",
              "      4.17% [1/24 00:04<01:46 0.6020]\n",
              "    </div>\n",
              "    "
            ],
            "text/plain": [
              "<IPython.core.display.HTML object>"
            ]
          },
          "metadata": {
            "tags": []
          }
        },
        {
          "output_type": "stream",
          "text": [
            "LR Finder is complete, type {learner_name}.recorder.plot() to see the graph.\n"
          ],
          "name": "stdout"
        },
        {
          "output_type": "display_data",
          "data": {
            "image/png": "[encoded data removed]",
            "text/plain": [
              "<Figure size 432x288 with 1 Axes>"
            ]
          },
          "metadata": {
            "tags": []
          }
        }
      ]
    },
    {
      "cell_type": "code",
      "metadata": {
        "id": "XxJO74OsQdSm",
        "colab_type": "code",
        "outputId": "9aec57ff-c761-4ff5-99b7-79fc466853b1",
        "colab": {
          "base_uri": "https://localhost:8080/",
          "height": 969
        }
      },
      "source": [
        "learn.fit_one_cycle(30, max_lr=slice(6e-07,7e-06))"
      ],
      "execution_count": 0,
      "outputs": [
        {
          "output_type": "display_data",
          "data": {
            "text/html": [
              "<table border=\"1\" class=\"dataframe\">\n",
              "  <thead>\n",
              "    <tr style=\"text-align: left;\">\n",
              "      <th>epoch</th>\n",
              "      <th>train_loss</th>\n",
              "      <th>valid_loss</th>\n",
              "      <th>accuracy</th>\n",
              "      <th>precision</th>\n",
              "      <th>recall</th>\n",
              "      <th>auroc</th>\n",
              "      <th>time</th>\n",
              "    </tr>\n",
              "  </thead>\n",
              "  <tbody>\n",
              "    <tr>\n",
              "      <td>0</td>\n",
              "      <td>0.329083</td>\n",
              "      <td>0.161188</td>\n",
              "      <td>0.923077</td>\n",
              "      <td>0.980000</td>\n",
              "      <td>0.924528</td>\n",
              "      <td>0.988994</td>\n",
              "      <td>00:31</td>\n",
              "    </tr>\n",
              "    <tr>\n",
              "      <td>1</td>\n",
              "      <td>0.322466</td>\n",
              "      <td>0.184026</td>\n",
              "      <td>0.923077</td>\n",
              "      <td>1.000000</td>\n",
              "      <td>0.905660</td>\n",
              "      <td>0.993711</td>\n",
              "      <td>00:31</td>\n",
              "    </tr>\n",
              "    <tr>\n",
              "      <td>2</td>\n",
              "      <td>0.377909</td>\n",
              "      <td>0.156069</td>\n",
              "      <td>0.984615</td>\n",
              "      <td>1.000000</td>\n",
              "      <td>0.981132</td>\n",
              "      <td>0.993711</td>\n",
              "      <td>00:31</td>\n",
              "    </tr>\n",
              "    <tr>\n",
              "      <td>3</td>\n",
              "      <td>0.339729</td>\n",
              "      <td>0.185341</td>\n",
              "      <td>0.907692</td>\n",
              "      <td>1.000000</td>\n",
              "      <td>0.886792</td>\n",
              "      <td>0.993711</td>\n",
              "      <td>00:31</td>\n",
              "    </tr>\n",
              "    <tr>\n",
              "      <td>4</td>\n",
              "      <td>0.343446</td>\n",
              "      <td>0.154403</td>\n",
              "      <td>0.923077</td>\n",
              "      <td>0.928571</td>\n",
              "      <td>0.981132</td>\n",
              "      <td>0.987421</td>\n",
              "      <td>00:31</td>\n",
              "    </tr>\n",
              "    <tr>\n",
              "      <td>5</td>\n",
              "      <td>0.320960</td>\n",
              "      <td>0.201964</td>\n",
              "      <td>0.876923</td>\n",
              "      <td>1.000000</td>\n",
              "      <td>0.849057</td>\n",
              "      <td>0.996855</td>\n",
              "      <td>00:31</td>\n",
              "    </tr>\n",
              "    <tr>\n",
              "      <td>6</td>\n",
              "      <td>0.314984</td>\n",
              "      <td>0.139085</td>\n",
              "      <td>0.938462</td>\n",
              "      <td>0.962264</td>\n",
              "      <td>0.962264</td>\n",
              "      <td>0.993711</td>\n",
              "      <td>00:31</td>\n",
              "    </tr>\n",
              "    <tr>\n",
              "      <td>7</td>\n",
              "      <td>0.338542</td>\n",
              "      <td>0.123679</td>\n",
              "      <td>0.969231</td>\n",
              "      <td>0.963636</td>\n",
              "      <td>1.000000</td>\n",
              "      <td>0.998428</td>\n",
              "      <td>00:31</td>\n",
              "    </tr>\n",
              "    <tr>\n",
              "      <td>8</td>\n",
              "      <td>0.332734</td>\n",
              "      <td>0.143998</td>\n",
              "      <td>0.969231</td>\n",
              "      <td>1.000000</td>\n",
              "      <td>0.962264</td>\n",
              "      <td>1.000000</td>\n",
              "      <td>00:30</td>\n",
              "    </tr>\n",
              "    <tr>\n",
              "      <td>9</td>\n",
              "      <td>0.345055</td>\n",
              "      <td>0.122995</td>\n",
              "      <td>0.984615</td>\n",
              "      <td>0.981481</td>\n",
              "      <td>1.000000</td>\n",
              "      <td>0.992138</td>\n",
              "      <td>00:31</td>\n",
              "    </tr>\n",
              "    <tr>\n",
              "      <td>10</td>\n",
              "      <td>0.351576</td>\n",
              "      <td>0.164527</td>\n",
              "      <td>0.953846</td>\n",
              "      <td>1.000000</td>\n",
              "      <td>0.943396</td>\n",
              "      <td>1.000000</td>\n",
              "      <td>00:31</td>\n",
              "    </tr>\n",
              "    <tr>\n",
              "      <td>11</td>\n",
              "      <td>0.345132</td>\n",
              "      <td>0.130223</td>\n",
              "      <td>0.984615</td>\n",
              "      <td>1.000000</td>\n",
              "      <td>0.981132</td>\n",
              "      <td>1.000000</td>\n",
              "      <td>00:31</td>\n",
              "    </tr>\n",
              "    <tr>\n",
              "      <td>12</td>\n",
              "      <td>0.330823</td>\n",
              "      <td>0.123418</td>\n",
              "      <td>0.938462</td>\n",
              "      <td>0.929825</td>\n",
              "      <td>1.000000</td>\n",
              "      <td>0.996855</td>\n",
              "      <td>00:30</td>\n",
              "    </tr>\n",
              "    <tr>\n",
              "      <td>13</td>\n",
              "      <td>0.325458</td>\n",
              "      <td>0.128031</td>\n",
              "      <td>0.953846</td>\n",
              "      <td>0.946429</td>\n",
              "      <td>1.000000</td>\n",
              "      <td>0.995283</td>\n",
              "      <td>00:31</td>\n",
              "    </tr>\n",
              "    <tr>\n",
              "      <td>14</td>\n",
              "      <td>0.338156</td>\n",
              "      <td>0.118844</td>\n",
              "      <td>0.984615</td>\n",
              "      <td>1.000000</td>\n",
              "      <td>0.981132</td>\n",
              "      <td>0.998428</td>\n",
              "      <td>00:31</td>\n",
              "    </tr>\n",
              "    <tr>\n",
              "      <td>15</td>\n",
              "      <td>0.313690</td>\n",
              "      <td>0.128854</td>\n",
              "      <td>0.984615</td>\n",
              "      <td>1.000000</td>\n",
              "      <td>0.981132</td>\n",
              "      <td>0.998428</td>\n",
              "      <td>00:31</td>\n",
              "    </tr>\n",
              "    <tr>\n",
              "      <td>16</td>\n",
              "      <td>0.311401</td>\n",
              "      <td>0.138623</td>\n",
              "      <td>0.969231</td>\n",
              "      <td>0.981132</td>\n",
              "      <td>0.981132</td>\n",
              "      <td>0.995283</td>\n",
              "      <td>00:31</td>\n",
              "    </tr>\n",
              "    <tr>\n",
              "      <td>17</td>\n",
              "      <td>0.299370</td>\n",
              "      <td>0.132648</td>\n",
              "      <td>0.953846</td>\n",
              "      <td>0.946429</td>\n",
              "      <td>1.000000</td>\n",
              "      <td>0.992138</td>\n",
              "      <td>00:31</td>\n",
              "    </tr>\n",
              "    <tr>\n",
              "      <td>18</td>\n",
              "      <td>0.297800</td>\n",
              "      <td>0.119331</td>\n",
              "      <td>0.953846</td>\n",
              "      <td>0.946429</td>\n",
              "      <td>1.000000</td>\n",
              "      <td>0.996855</td>\n",
              "      <td>00:31</td>\n",
              "    </tr>\n",
              "    <tr>\n",
              "      <td>19</td>\n",
              "      <td>0.307549</td>\n",
              "      <td>0.114339</td>\n",
              "      <td>1.000000</td>\n",
              "      <td>1.000000</td>\n",
              "      <td>1.000000</td>\n",
              "      <td>1.000000</td>\n",
              "      <td>00:31</td>\n",
              "    </tr>\n",
              "    <tr>\n",
              "      <td>20</td>\n",
              "      <td>0.319106</td>\n",
              "      <td>0.146249</td>\n",
              "      <td>0.969231</td>\n",
              "      <td>1.000000</td>\n",
              "      <td>0.962264</td>\n",
              "      <td>1.000000</td>\n",
              "      <td>00:31</td>\n",
              "    </tr>\n",
              "    <tr>\n",
              "      <td>21</td>\n",
              "      <td>0.285886</td>\n",
              "      <td>0.118273</td>\n",
              "      <td>0.953846</td>\n",
              "      <td>0.946429</td>\n",
              "      <td>1.000000</td>\n",
              "      <td>1.000000</td>\n",
              "      <td>00:30</td>\n",
              "    </tr>\n",
              "    <tr>\n",
              "      <td>22</td>\n",
              "      <td>0.302488</td>\n",
              "      <td>0.115909</td>\n",
              "      <td>0.953846</td>\n",
              "      <td>0.946429</td>\n",
              "      <td>1.000000</td>\n",
              "      <td>1.000000</td>\n",
              "      <td>00:31</td>\n",
              "    </tr>\n",
              "    <tr>\n",
              "      <td>23</td>\n",
              "      <td>0.360066</td>\n",
              "      <td>0.117351</td>\n",
              "      <td>0.984615</td>\n",
              "      <td>1.000000</td>\n",
              "      <td>0.981132</td>\n",
              "      <td>1.000000</td>\n",
              "      <td>00:30</td>\n",
              "    </tr>\n",
              "    <tr>\n",
              "      <td>24</td>\n",
              "      <td>0.330640</td>\n",
              "      <td>0.170464</td>\n",
              "      <td>0.938462</td>\n",
              "      <td>1.000000</td>\n",
              "      <td>0.924528</td>\n",
              "      <td>0.998428</td>\n",
              "      <td>00:30</td>\n",
              "    </tr>\n",
              "    <tr>\n",
              "      <td>25</td>\n",
              "      <td>0.365404</td>\n",
              "      <td>0.135715</td>\n",
              "      <td>0.969231</td>\n",
              "      <td>1.000000</td>\n",
              "      <td>0.962264</td>\n",
              "      <td>1.000000</td>\n",
              "      <td>00:30</td>\n",
              "    </tr>\n",
              "    <tr>\n",
              "      <td>26</td>\n",
              "      <td>0.365287</td>\n",
              "      <td>0.129336</td>\n",
              "      <td>0.969231</td>\n",
              "      <td>0.981132</td>\n",
              "      <td>0.981132</td>\n",
              "      <td>0.998428</td>\n",
              "      <td>00:31</td>\n",
              "    </tr>\n",
              "    <tr>\n",
              "      <td>27</td>\n",
              "      <td>0.327235</td>\n",
              "      <td>0.112275</td>\n",
              "      <td>0.969231</td>\n",
              "      <td>0.963636</td>\n",
              "      <td>1.000000</td>\n",
              "      <td>0.995283</td>\n",
              "      <td>00:31</td>\n",
              "    </tr>\n",
              "    <tr>\n",
              "      <td>28</td>\n",
              "      <td>0.335879</td>\n",
              "      <td>0.123840</td>\n",
              "      <td>0.984615</td>\n",
              "      <td>0.981481</td>\n",
              "      <td>1.000000</td>\n",
              "      <td>0.995283</td>\n",
              "      <td>00:31</td>\n",
              "    </tr>\n",
              "    <tr>\n",
              "      <td>29</td>\n",
              "      <td>0.295829</td>\n",
              "      <td>0.130496</td>\n",
              "      <td>0.969231</td>\n",
              "      <td>1.000000</td>\n",
              "      <td>0.962264</td>\n",
              "      <td>1.000000</td>\n",
              "      <td>00:31</td>\n",
              "    </tr>\n",
              "  </tbody>\n",
              "</table>"
            ],
            "text/plain": [
              "<IPython.core.display.HTML object>"
            ]
          },
          "metadata": {
            "tags": []
          }
        }
      ]
    },
    {
      "cell_type": "code",
      "metadata": {
        "id": "K9hfQWiQYNfE",
        "colab_type": "code",
        "colab": {}
      },
      "source": [
        "learn.save('Corona_model_stage3.pth')"
      ],
      "execution_count": 0,
      "outputs": []
    },
    {
      "cell_type": "code",
      "metadata": {
        "id": "8rnFypFAYYME",
        "colab_type": "code",
        "outputId": "7269b8df-e6fc-4ef4-a7a4-cc78d7060f7e",
        "colab": {
          "base_uri": "https://localhost:8080/",
          "height": 469
        }
      },
      "source": [
        "learn.lr_find()\n",
        "learn.recorder.plot()"
      ],
      "execution_count": 0,
      "outputs": [
        {
          "output_type": "display_data",
          "data": {
            "text/html": [
              "\n",
              "    <div>\n",
              "        <style>\n",
              "            /* Turns off some styling */\n",
              "            progress {\n",
              "                /* gets rid of default border in Firefox and Opera. */\n",
              "                border: none;\n",
              "                /* Needs to be in here for Safari polyfill so background images work as expected. */\n",
              "                background-size: auto;\n",
              "            }\n",
              "            .progress-bar-interrupted, .progress-bar-interrupted::-webkit-progress-bar {\n",
              "                background: #F44336;\n",
              "            }\n",
              "        </style>\n",
              "      <progress value='3' class='' max='5', style='width:300px; height:20px; vertical-align: middle;'></progress>\n",
              "      60.00% [3/5 01:13<00:48]\n",
              "    </div>\n",
              "    \n",
              "<table border=\"1\" class=\"dataframe\">\n",
              "  <thead>\n",
              "    <tr style=\"text-align: left;\">\n",
              "      <th>epoch</th>\n",
              "      <th>train_loss</th>\n",
              "      <th>valid_loss</th>\n",
              "      <th>accuracy</th>\n",
              "      <th>precision</th>\n",
              "      <th>recall</th>\n",
              "      <th>auroc</th>\n",
              "      <th>time</th>\n",
              "    </tr>\n",
              "  </thead>\n",
              "  <tbody>\n",
              "    <tr>\n",
              "      <td>0</td>\n",
              "      <td>0.320863</td>\n",
              "      <td>#na#</td>\n",
              "      <td>00:24</td>\n",
              "    </tr>\n",
              "    <tr>\n",
              "      <td>1</td>\n",
              "      <td>0.398267</td>\n",
              "      <td>#na#</td>\n",
              "      <td>00:24</td>\n",
              "    </tr>\n",
              "    <tr>\n",
              "      <td>2</td>\n",
              "      <td>0.602363</td>\n",
              "      <td>#na#</td>\n",
              "      <td>00:24</td>\n",
              "    </tr>\n",
              "  </tbody>\n",
              "</table><p>\n",
              "\n",
              "    <div>\n",
              "        <style>\n",
              "            /* Turns off some styling */\n",
              "            progress {\n",
              "                /* gets rid of default border in Firefox and Opera. */\n",
              "                border: none;\n",
              "                /* Needs to be in here for Safari polyfill so background images work as expected. */\n",
              "                background-size: auto;\n",
              "            }\n",
              "            .progress-bar-interrupted, .progress-bar-interrupted::-webkit-progress-bar {\n",
              "                background: #F44336;\n",
              "            }\n",
              "        </style>\n",
              "      <progress value='10' class='' max='24', style='width:300px; height:20px; vertical-align: middle;'></progress>\n",
              "      41.67% [10/24 00:12<00:17 0.7340]\n",
              "    </div>\n",
              "    "
            ],
            "text/plain": [
              "<IPython.core.display.HTML object>"
            ]
          },
          "metadata": {
            "tags": []
          }
        },
        {
          "output_type": "stream",
          "text": [
            "LR Finder is complete, type {learner_name}.recorder.plot() to see the graph.\n"
          ],
          "name": "stdout"
        },
        {
          "output_type": "display_data",
          "data": {
            "image/png": "[encoded data removed]",
            "text/plain": [
              "<Figure size 432x288 with 1 Axes>"
            ]
          },
          "metadata": {
            "tags": []
          }
        }
      ]
    },
    {
      "cell_type": "code",
      "metadata": {
        "id": "fcRZtawDYau4",
        "colab_type": "code",
        "outputId": "4b799512-2c44-453b-9b88-5364969f20a9",
        "colab": {
          "base_uri": "https://localhost:8080/",
          "height": 1000
        }
      },
      "source": [
        "learn.fit_one_cycle(40, max_lr=slice(8e-06,1e-05))"
      ],
      "execution_count": 0,
      "outputs": [
        {
          "output_type": "display_data",
          "data": {
            "text/html": [
              "<table border=\"1\" class=\"dataframe\">\n",
              "  <thead>\n",
              "    <tr style=\"text-align: left;\">\n",
              "      <th>epoch</th>\n",
              "      <th>train_loss</th>\n",
              "      <th>valid_loss</th>\n",
              "      <th>accuracy</th>\n",
              "      <th>precision</th>\n",
              "      <th>recall</th>\n",
              "      <th>auroc</th>\n",
              "      <th>time</th>\n",
              "    </tr>\n",
              "  </thead>\n",
              "  <tbody>\n",
              "    <tr>\n",
              "      <td>0</td>\n",
              "      <td>0.202330</td>\n",
              "      <td>0.129510</td>\n",
              "      <td>0.969231</td>\n",
              "      <td>1.000000</td>\n",
              "      <td>0.962264</td>\n",
              "      <td>1.000000</td>\n",
              "      <td>00:29</td>\n",
              "    </tr>\n",
              "    <tr>\n",
              "      <td>1</td>\n",
              "      <td>0.307139</td>\n",
              "      <td>0.130274</td>\n",
              "      <td>0.953846</td>\n",
              "      <td>0.946429</td>\n",
              "      <td>1.000000</td>\n",
              "      <td>0.993711</td>\n",
              "      <td>00:30</td>\n",
              "    </tr>\n",
              "    <tr>\n",
              "      <td>2</td>\n",
              "      <td>0.329779</td>\n",
              "      <td>0.149713</td>\n",
              "      <td>0.938462</td>\n",
              "      <td>0.962264</td>\n",
              "      <td>0.962264</td>\n",
              "      <td>0.987421</td>\n",
              "      <td>00:31</td>\n",
              "    </tr>\n",
              "    <tr>\n",
              "      <td>3</td>\n",
              "      <td>0.368552</td>\n",
              "      <td>0.165314</td>\n",
              "      <td>0.953846</td>\n",
              "      <td>0.980769</td>\n",
              "      <td>0.962264</td>\n",
              "      <td>0.987421</td>\n",
              "      <td>00:30</td>\n",
              "    </tr>\n",
              "    <tr>\n",
              "      <td>4</td>\n",
              "      <td>0.293627</td>\n",
              "      <td>0.108407</td>\n",
              "      <td>1.000000</td>\n",
              "      <td>1.000000</td>\n",
              "      <td>1.000000</td>\n",
              "      <td>1.000000</td>\n",
              "      <td>00:30</td>\n",
              "    </tr>\n",
              "    <tr>\n",
              "      <td>5</td>\n",
              "      <td>0.275742</td>\n",
              "      <td>0.113035</td>\n",
              "      <td>0.969231</td>\n",
              "      <td>0.963636</td>\n",
              "      <td>1.000000</td>\n",
              "      <td>0.998428</td>\n",
              "      <td>00:31</td>\n",
              "    </tr>\n",
              "    <tr>\n",
              "      <td>6</td>\n",
              "      <td>0.292897</td>\n",
              "      <td>0.128666</td>\n",
              "      <td>0.953846</td>\n",
              "      <td>0.962963</td>\n",
              "      <td>0.981132</td>\n",
              "      <td>0.988994</td>\n",
              "      <td>00:30</td>\n",
              "    </tr>\n",
              "    <tr>\n",
              "      <td>7</td>\n",
              "      <td>0.277679</td>\n",
              "      <td>0.121344</td>\n",
              "      <td>0.969231</td>\n",
              "      <td>0.963636</td>\n",
              "      <td>1.000000</td>\n",
              "      <td>0.993711</td>\n",
              "      <td>00:30</td>\n",
              "    </tr>\n",
              "    <tr>\n",
              "      <td>8</td>\n",
              "      <td>0.318157</td>\n",
              "      <td>0.117274</td>\n",
              "      <td>0.953846</td>\n",
              "      <td>0.962963</td>\n",
              "      <td>0.981132</td>\n",
              "      <td>0.990566</td>\n",
              "      <td>00:30</td>\n",
              "    </tr>\n",
              "    <tr>\n",
              "      <td>9</td>\n",
              "      <td>0.276515</td>\n",
              "      <td>0.137329</td>\n",
              "      <td>0.953846</td>\n",
              "      <td>0.962963</td>\n",
              "      <td>0.981132</td>\n",
              "      <td>0.976415</td>\n",
              "      <td>00:31</td>\n",
              "    </tr>\n",
              "    <tr>\n",
              "      <td>10</td>\n",
              "      <td>0.272156</td>\n",
              "      <td>0.120699</td>\n",
              "      <td>0.984615</td>\n",
              "      <td>1.000000</td>\n",
              "      <td>0.981132</td>\n",
              "      <td>1.000000</td>\n",
              "      <td>00:31</td>\n",
              "    </tr>\n",
              "    <tr>\n",
              "      <td>11</td>\n",
              "      <td>0.250732</td>\n",
              "      <td>0.107218</td>\n",
              "      <td>0.969231</td>\n",
              "      <td>0.963636</td>\n",
              "      <td>1.000000</td>\n",
              "      <td>0.984277</td>\n",
              "      <td>00:30</td>\n",
              "    </tr>\n",
              "    <tr>\n",
              "      <td>12</td>\n",
              "      <td>0.265247</td>\n",
              "      <td>0.144146</td>\n",
              "      <td>0.969231</td>\n",
              "      <td>0.963636</td>\n",
              "      <td>1.000000</td>\n",
              "      <td>0.952830</td>\n",
              "      <td>00:30</td>\n",
              "    </tr>\n",
              "    <tr>\n",
              "      <td>13</td>\n",
              "      <td>0.261017</td>\n",
              "      <td>0.150637</td>\n",
              "      <td>0.953846</td>\n",
              "      <td>0.962963</td>\n",
              "      <td>0.981132</td>\n",
              "      <td>0.973270</td>\n",
              "      <td>00:31</td>\n",
              "    </tr>\n",
              "    <tr>\n",
              "      <td>14</td>\n",
              "      <td>0.232559</td>\n",
              "      <td>0.148362</td>\n",
              "      <td>0.938462</td>\n",
              "      <td>0.962264</td>\n",
              "      <td>0.962264</td>\n",
              "      <td>0.984277</td>\n",
              "      <td>00:30</td>\n",
              "    </tr>\n",
              "    <tr>\n",
              "      <td>15</td>\n",
              "      <td>0.231504</td>\n",
              "      <td>0.151517</td>\n",
              "      <td>0.969231</td>\n",
              "      <td>0.963636</td>\n",
              "      <td>1.000000</td>\n",
              "      <td>0.960692</td>\n",
              "      <td>00:30</td>\n",
              "    </tr>\n",
              "    <tr>\n",
              "      <td>16</td>\n",
              "      <td>0.229667</td>\n",
              "      <td>0.169188</td>\n",
              "      <td>0.969231</td>\n",
              "      <td>0.963636</td>\n",
              "      <td>1.000000</td>\n",
              "      <td>0.922956</td>\n",
              "      <td>00:31</td>\n",
              "    </tr>\n",
              "    <tr>\n",
              "      <td>17</td>\n",
              "      <td>0.231852</td>\n",
              "      <td>0.221873</td>\n",
              "      <td>0.907692</td>\n",
              "      <td>0.960784</td>\n",
              "      <td>0.924528</td>\n",
              "      <td>0.955975</td>\n",
              "      <td>00:30</td>\n",
              "    </tr>\n",
              "    <tr>\n",
              "      <td>18</td>\n",
              "      <td>0.223735</td>\n",
              "      <td>0.206218</td>\n",
              "      <td>0.923077</td>\n",
              "      <td>0.961538</td>\n",
              "      <td>0.943396</td>\n",
              "      <td>0.927673</td>\n",
              "      <td>00:30</td>\n",
              "    </tr>\n",
              "    <tr>\n",
              "      <td>19</td>\n",
              "      <td>0.238116</td>\n",
              "      <td>0.184144</td>\n",
              "      <td>0.938462</td>\n",
              "      <td>0.962264</td>\n",
              "      <td>0.962264</td>\n",
              "      <td>0.951258</td>\n",
              "      <td>00:30</td>\n",
              "    </tr>\n",
              "    <tr>\n",
              "      <td>20</td>\n",
              "      <td>0.224600</td>\n",
              "      <td>0.175078</td>\n",
              "      <td>0.953846</td>\n",
              "      <td>0.962963</td>\n",
              "      <td>0.981132</td>\n",
              "      <td>0.941824</td>\n",
              "      <td>00:31</td>\n",
              "    </tr>\n",
              "    <tr>\n",
              "      <td>21</td>\n",
              "      <td>0.248824</td>\n",
              "      <td>0.212263</td>\n",
              "      <td>0.907692</td>\n",
              "      <td>0.960784</td>\n",
              "      <td>0.924528</td>\n",
              "      <td>0.970126</td>\n",
              "      <td>00:31</td>\n",
              "    </tr>\n",
              "    <tr>\n",
              "      <td>22</td>\n",
              "      <td>0.260683</td>\n",
              "      <td>0.154493</td>\n",
              "      <td>0.938462</td>\n",
              "      <td>0.962264</td>\n",
              "      <td>0.962264</td>\n",
              "      <td>0.968553</td>\n",
              "      <td>00:30</td>\n",
              "    </tr>\n",
              "    <tr>\n",
              "      <td>23</td>\n",
              "      <td>0.218456</td>\n",
              "      <td>0.133802</td>\n",
              "      <td>0.953846</td>\n",
              "      <td>0.962963</td>\n",
              "      <td>0.981132</td>\n",
              "      <td>0.977987</td>\n",
              "      <td>00:30</td>\n",
              "    </tr>\n",
              "    <tr>\n",
              "      <td>24</td>\n",
              "      <td>0.192157</td>\n",
              "      <td>0.162497</td>\n",
              "      <td>0.938462</td>\n",
              "      <td>0.962264</td>\n",
              "      <td>0.962264</td>\n",
              "      <td>0.981132</td>\n",
              "      <td>00:30</td>\n",
              "    </tr>\n",
              "    <tr>\n",
              "      <td>25</td>\n",
              "      <td>0.212321</td>\n",
              "      <td>0.146048</td>\n",
              "      <td>0.953846</td>\n",
              "      <td>0.962963</td>\n",
              "      <td>0.981132</td>\n",
              "      <td>0.973270</td>\n",
              "      <td>00:30</td>\n",
              "    </tr>\n",
              "    <tr>\n",
              "      <td>26</td>\n",
              "      <td>0.205146</td>\n",
              "      <td>0.133541</td>\n",
              "      <td>0.953846</td>\n",
              "      <td>0.962963</td>\n",
              "      <td>0.981132</td>\n",
              "      <td>0.984277</td>\n",
              "      <td>00:30</td>\n",
              "    </tr>\n",
              "    <tr>\n",
              "      <td>27</td>\n",
              "      <td>0.220228</td>\n",
              "      <td>0.159637</td>\n",
              "      <td>0.938462</td>\n",
              "      <td>0.962264</td>\n",
              "      <td>0.962264</td>\n",
              "      <td>0.957547</td>\n",
              "      <td>00:30</td>\n",
              "    </tr>\n",
              "    <tr>\n",
              "      <td>28</td>\n",
              "      <td>0.196391</td>\n",
              "      <td>0.161086</td>\n",
              "      <td>0.953846</td>\n",
              "      <td>0.946429</td>\n",
              "      <td>1.000000</td>\n",
              "      <td>0.937107</td>\n",
              "      <td>00:30</td>\n",
              "    </tr>\n",
              "    <tr>\n",
              "      <td>29</td>\n",
              "      <td>0.189515</td>\n",
              "      <td>0.152208</td>\n",
              "      <td>0.938462</td>\n",
              "      <td>0.962264</td>\n",
              "      <td>0.962264</td>\n",
              "      <td>0.970126</td>\n",
              "      <td>00:30</td>\n",
              "    </tr>\n",
              "    <tr>\n",
              "      <td>30</td>\n",
              "      <td>0.203865</td>\n",
              "      <td>0.144759</td>\n",
              "      <td>0.969231</td>\n",
              "      <td>0.963636</td>\n",
              "      <td>1.000000</td>\n",
              "      <td>0.963836</td>\n",
              "      <td>00:30</td>\n",
              "    </tr>\n",
              "    <tr>\n",
              "      <td>31</td>\n",
              "      <td>0.222767</td>\n",
              "      <td>0.148251</td>\n",
              "      <td>0.938462</td>\n",
              "      <td>0.962264</td>\n",
              "      <td>0.962264</td>\n",
              "      <td>0.970126</td>\n",
              "      <td>00:30</td>\n",
              "    </tr>\n",
              "    <tr>\n",
              "      <td>32</td>\n",
              "      <td>0.223735</td>\n",
              "      <td>0.147994</td>\n",
              "      <td>0.953846</td>\n",
              "      <td>0.962963</td>\n",
              "      <td>0.981132</td>\n",
              "      <td>0.954403</td>\n",
              "      <td>00:30</td>\n",
              "    </tr>\n",
              "    <tr>\n",
              "      <td>33</td>\n",
              "      <td>0.227146</td>\n",
              "      <td>0.142463</td>\n",
              "      <td>0.938462</td>\n",
              "      <td>0.962264</td>\n",
              "      <td>0.962264</td>\n",
              "      <td>0.974843</td>\n",
              "      <td>00:30</td>\n",
              "    </tr>\n",
              "    <tr>\n",
              "      <td>34</td>\n",
              "      <td>0.213540</td>\n",
              "      <td>0.152646</td>\n",
              "      <td>0.953846</td>\n",
              "      <td>0.962963</td>\n",
              "      <td>0.981132</td>\n",
              "      <td>0.963836</td>\n",
              "      <td>00:30</td>\n",
              "    </tr>\n",
              "    <tr>\n",
              "      <td>35</td>\n",
              "      <td>0.247148</td>\n",
              "      <td>0.158109</td>\n",
              "      <td>0.938462</td>\n",
              "      <td>0.962264</td>\n",
              "      <td>0.962264</td>\n",
              "      <td>0.970126</td>\n",
              "      <td>00:30</td>\n",
              "    </tr>\n",
              "    <tr>\n",
              "      <td>36</td>\n",
              "      <td>0.214760</td>\n",
              "      <td>0.155666</td>\n",
              "      <td>0.969231</td>\n",
              "      <td>0.963636</td>\n",
              "      <td>1.000000</td>\n",
              "      <td>0.938679</td>\n",
              "      <td>00:30</td>\n",
              "    </tr>\n",
              "    <tr>\n",
              "      <td>37</td>\n",
              "      <td>0.215133</td>\n",
              "      <td>0.146378</td>\n",
              "      <td>0.953846</td>\n",
              "      <td>0.962963</td>\n",
              "      <td>0.981132</td>\n",
              "      <td>0.973270</td>\n",
              "      <td>00:30</td>\n",
              "    </tr>\n",
              "    <tr>\n",
              "      <td>38</td>\n",
              "      <td>0.190748</td>\n",
              "      <td>0.151290</td>\n",
              "      <td>0.953846</td>\n",
              "      <td>0.962963</td>\n",
              "      <td>0.981132</td>\n",
              "      <td>0.960692</td>\n",
              "      <td>00:30</td>\n",
              "    </tr>\n",
              "    <tr>\n",
              "      <td>39</td>\n",
              "      <td>0.210779</td>\n",
              "      <td>0.173059</td>\n",
              "      <td>0.938462</td>\n",
              "      <td>0.962264</td>\n",
              "      <td>0.962264</td>\n",
              "      <td>0.952830</td>\n",
              "      <td>00:30</td>\n",
              "    </tr>\n",
              "  </tbody>\n",
              "</table>"
            ],
            "text/plain": [
              "<IPython.core.display.HTML object>"
            ]
          },
          "metadata": {
            "tags": []
          }
        }
      ]
    },
    {
      "cell_type": "code",
      "metadata": {
        "id": "KxREqJWPfV6A",
        "colab_type": "code",
        "colab": {}
      },
      "source": [
        "learn.save('Corona_model_stage4.pth')"
      ],
      "execution_count": 0,
      "outputs": []
    },
    {
      "cell_type": "code",
      "metadata": {
        "id": "ZJhH61YcfZ2O",
        "colab_type": "code",
        "outputId": "cb0d819d-d5a8-4243-f3be-ec062c52c26b",
        "colab": {
          "base_uri": "https://localhost:8080/",
          "height": 466
        }
      },
      "source": [
        "learn.lr_find()\n",
        "learn.recorder.plot()"
      ],
      "execution_count": 0,
      "outputs": [
        {
          "output_type": "display_data",
          "data": {
            "text/html": [
              "\n",
              "    <div>\n",
              "        <style>\n",
              "            /* Turns off some styling */\n",
              "            progress {\n",
              "                /* gets rid of default border in Firefox and Opera. */\n",
              "                border: none;\n",
              "                /* Needs to be in here for Safari polyfill so background images work as expected. */\n",
              "                background-size: auto;\n",
              "            }\n",
              "            .progress-bar-interrupted, .progress-bar-interrupted::-webkit-progress-bar {\n",
              "                background: #F44336;\n",
              "            }\n",
              "        </style>\n",
              "      <progress value='3' class='' max='5', style='width:300px; height:20px; vertical-align: middle;'></progress>\n",
              "      60.00% [3/5 01:12<00:48]\n",
              "    </div>\n",
              "    \n",
              "<table border=\"1\" class=\"dataframe\">\n",
              "  <thead>\n",
              "    <tr style=\"text-align: left;\">\n",
              "      <th>epoch</th>\n",
              "      <th>train_loss</th>\n",
              "      <th>valid_loss</th>\n",
              "      <th>accuracy</th>\n",
              "      <th>precision</th>\n",
              "      <th>recall</th>\n",
              "      <th>auroc</th>\n",
              "      <th>time</th>\n",
              "    </tr>\n",
              "  </thead>\n",
              "  <tbody>\n",
              "    <tr>\n",
              "      <td>0</td>\n",
              "      <td>0.207901</td>\n",
              "      <td>#na#</td>\n",
              "      <td>00:24</td>\n",
              "    </tr>\n",
              "    <tr>\n",
              "      <td>1</td>\n",
              "      <td>0.206814</td>\n",
              "      <td>#na#</td>\n",
              "      <td>00:24</td>\n",
              "    </tr>\n",
              "    <tr>\n",
              "      <td>2</td>\n",
              "      <td>0.478553</td>\n",
              "      <td>#na#</td>\n",
              "      <td>00:24</td>\n",
              "    </tr>\n",
              "  </tbody>\n",
              "</table><p>\n",
              "\n",
              "    <div>\n",
              "        <style>\n",
              "            /* Turns off some styling */\n",
              "            progress {\n",
              "                /* gets rid of default border in Firefox and Opera. */\n",
              "                border: none;\n",
              "                /* Needs to be in here for Safari polyfill so background images work as expected. */\n",
              "                background-size: auto;\n",
              "            }\n",
              "            .progress-bar-interrupted, .progress-bar-interrupted::-webkit-progress-bar {\n",
              "                background: #F44336;\n",
              "            }\n",
              "        </style>\n",
              "      <progress value='7' class='' max='24', style='width:300px; height:20px; vertical-align: middle;'></progress>\n",
              "      29.17% [7/24 00:08<00:20 0.6359]\n",
              "    </div>\n",
              "    "
            ],
            "text/plain": [
              "<IPython.core.display.HTML object>"
            ]
          },
          "metadata": {
            "tags": []
          }
        },
        {
          "output_type": "stream",
          "text": [
            "LR Finder is complete, type {learner_name}.recorder.plot() to see the graph.\n"
          ],
          "name": "stdout"
        },
        {
          "output_type": "display_data",
          "data": {
            "image/png": "[encoded data removed]",
            "text/plain": [
              "<Figure size 432x288 with 1 Axes>"
            ]
          },
          "metadata": {
            "tags": []
          }
        }
      ]
    },
    {
      "cell_type": "code",
      "metadata": {
        "id": "5PWLp5u5feF4",
        "colab_type": "code",
        "outputId": "2c5fe682-9e78-49f6-d3b8-82a83d85c837",
        "colab": {
          "base_uri": "https://localhost:8080/",
          "height": 202
        }
      },
      "source": [
        "learn.fit_one_cycle(5, max_lr=2e-06)"
      ],
      "execution_count": 0,
      "outputs": [
        {
          "output_type": "display_data",
          "data": {
            "text/html": [
              "<table border=\"1\" class=\"dataframe\">\n",
              "  <thead>\n",
              "    <tr style=\"text-align: left;\">\n",
              "      <th>epoch</th>\n",
              "      <th>train_loss</th>\n",
              "      <th>valid_loss</th>\n",
              "      <th>accuracy</th>\n",
              "      <th>precision</th>\n",
              "      <th>recall</th>\n",
              "      <th>auroc</th>\n",
              "      <th>time</th>\n",
              "    </tr>\n",
              "  </thead>\n",
              "  <tbody>\n",
              "    <tr>\n",
              "      <td>0</td>\n",
              "      <td>0.147189</td>\n",
              "      <td>0.147491</td>\n",
              "      <td>0.953846</td>\n",
              "      <td>0.962963</td>\n",
              "      <td>0.981132</td>\n",
              "      <td>0.957547</td>\n",
              "      <td>00:30</td>\n",
              "    </tr>\n",
              "    <tr>\n",
              "      <td>1</td>\n",
              "      <td>0.156640</td>\n",
              "      <td>0.138794</td>\n",
              "      <td>0.953846</td>\n",
              "      <td>0.962963</td>\n",
              "      <td>0.981132</td>\n",
              "      <td>0.971698</td>\n",
              "      <td>00:30</td>\n",
              "    </tr>\n",
              "    <tr>\n",
              "      <td>2</td>\n",
              "      <td>0.155739</td>\n",
              "      <td>0.169582</td>\n",
              "      <td>0.938462</td>\n",
              "      <td>0.962264</td>\n",
              "      <td>0.962264</td>\n",
              "      <td>0.979560</td>\n",
              "      <td>00:30</td>\n",
              "    </tr>\n",
              "    <tr>\n",
              "      <td>3</td>\n",
              "      <td>0.160096</td>\n",
              "      <td>0.160149</td>\n",
              "      <td>0.938462</td>\n",
              "      <td>0.962264</td>\n",
              "      <td>0.962264</td>\n",
              "      <td>0.948113</td>\n",
              "      <td>00:30</td>\n",
              "    </tr>\n",
              "    <tr>\n",
              "      <td>4</td>\n",
              "      <td>0.187604</td>\n",
              "      <td>0.159831</td>\n",
              "      <td>0.938462</td>\n",
              "      <td>0.962264</td>\n",
              "      <td>0.962264</td>\n",
              "      <td>0.966981</td>\n",
              "      <td>00:29</td>\n",
              "    </tr>\n",
              "  </tbody>\n",
              "</table>"
            ],
            "text/plain": [
              "<IPython.core.display.HTML object>"
            ]
          },
          "metadata": {
            "tags": []
          }
        }
      ]
    },
    {
      "cell_type": "code",
      "metadata": {
        "id": "8VYCH1GtlPus",
        "colab_type": "code",
        "colab": {}
      },
      "source": [
        "learn.save('Corona_model_stage5')"
      ],
      "execution_count": 0,
      "outputs": []
    },
    {
      "cell_type": "markdown",
      "metadata": {
        "id": "aMA2CnQZyPuT",
        "colab_type": "text"
      },
      "source": [
        "# Results on Validation Set and Predictions on Test Set"
      ]
    },
    {
      "cell_type": "code",
      "metadata": {
        "id": "oWN8UExfQjeB",
        "colab_type": "code",
        "outputId": "9db80d2f-f754-4e92-9ae8-92633d1de58a",
        "colab": {
          "base_uri": "https://localhost:8080/",
          "height": 311
        }
      },
      "source": [
        "interp = ClassificationInterpretation.from_learner(learn)\n",
        "interp.plot_confusion_matrix()"
      ],
      "execution_count": 0,
      "outputs": [
        {
          "output_type": "display_data",
          "data": {
            "text/html": [
              ""
            ],
            "text/plain": [
              "<IPython.core.display.HTML object>"
            ]
          },
          "metadata": {
            "tags": []
          }
        },
        {
          "output_type": "display_data",
          "data": {
            "image/png": "[encoded data removed]",
            "text/plain": [
              "<Figure size 432x288 with 1 Axes>"
            ]
          },
          "metadata": {
            "tags": []
          }
        }
      ]
    },
    {
      "cell_type": "code",
      "metadata": {
        "id": "dNi_5tq3XRE1",
        "colab_type": "code",
        "colab": {}
      },
      "source": [
        "preds, _ = learn.get_preds(ds_type = DatasetType.Test, ordered=True)"
      ],
      "execution_count": 0,
      "outputs": []
    },
    {
      "cell_type": "code",
      "metadata": {
        "id": "w6y4X9lguOgE",
        "colab_type": "code",
        "colab": {}
      },
      "source": [
        "df_test"
      ],
      "execution_count": 0,
      "outputs": []
    },
    {
      "cell_type": "code",
      "metadata": {
        "id": "P2znTCilq29M",
        "colab_type": "code",
        "colab": {}
      },
      "source": [
        "#WARNING: PREDICTIONS ARE NOT SORTED AND DO NOT MATCH THEIR ACTUAL CORRESPONDING IMAGES\n",
        "'''\n",
        "model_classes = learn.data.classes\n",
        "preds = preds.tolist()\n",
        "confidences = [{c: p for c,p*100 in zip(model_classes, probs)} for probs in preds]\n",
        "final_df = pd.DataFrame({'ID_code': df_test['filename'], 'target': confidences})\n",
        "final_df.to_csv('NCOV_test_results.csv', header=True, index=False)\n",
        "'''\n",
        "\n"
      ],
      "execution_count": 0,
      "outputs": []
    },
    {
      "cell_type": "code",
      "metadata": {
        "id": "xKe9TohirATh",
        "colab_type": "code",
        "colab": {}
      },
      "source": [
        "#safer to use a dictionary data structure\n",
        "#save predictions on test set in csv\n",
        "images={filename:open_image('data/test/'+filename) for filename in test_files}\n",
        "results={filename:learn.predict(images[filename]) for filename in test_files}\n",
        "final_df=pd.DataFrame.from_dict(results,orient='index')\n",
        "final_df.to_csv('NCOV_test_results.csv', header=True)\n"
      ],
      "execution_count": 0,
      "outputs": []
    },
    {
      "cell_type": "code",
      "metadata": {
        "id": "GXxvwbZpMbFj",
        "colab_type": "code",
        "colab": {}
      },
      "source": [
        ""
      ],
      "execution_count": 0,
      "outputs": []
    }
  ]
}